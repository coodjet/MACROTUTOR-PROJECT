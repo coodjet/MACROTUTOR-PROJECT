{
  "nbformat": 4,
  "nbformat_minor": 0,
  "metadata": {
    "colab": {
      "name": "Fahrenheit to Celsius Converter.ipynb",
      "provenance": [],
      "collapsed_sections": [],
      "authorship_tag": "ABX9TyPLsgicIbAUJFaV+dgz6fcb",
      "include_colab_link": true
    },
    "kernelspec": {
      "name": "python3",
      "display_name": "Python 3"
    },
    "language_info": {
      "name": "python"
    }
  },
  "cells": [
    {
      "cell_type": "markdown",
      "metadata": {
        "id": "view-in-github",
        "colab_type": "text"
      },
      "source": [
        "<a href=\"https://colab.research.google.com/github/coodjet/MACROTUTOR-PROJECT/blob/main/Fahrenheit_to_Celsius_Converter.ipynb\" target=\"_parent\"><img src=\"https://colab.research.google.com/assets/colab-badge.svg\" alt=\"Open In Colab\"/></a>"
      ]
    },
    {
      "cell_type": "markdown",
      "source": [
        "**PYTHON PROJECT**"
      ],
      "metadata": {
        "id": "cWeWfbERGZgB"
      }
    },
    {
      "cell_type": "markdown",
      "source": [
        "**STEPS**\n",
        "\n",
        "\n",
        "\n",
        "1.   **STEP 1**: \n",
        "So the first thing we are going to do is to ask the user for the temperature in Fahrenheit to convert it into the Celsius.\n",
        "\n",
        "2. **STEP 2**: \n",
        " We will convert the temperature into float using float() so that we can perform calculations on it.\n",
        "\n",
        "3. **STEP 3** :\n",
        " Now finally let's print our temperature in Celsius:\n",
        "\n"
      ],
      "metadata": {
        "id": "Dxi1reuy1jjf"
      }
    },
    {
      "cell_type": "code",
      "execution_count": null,
      "metadata": {
        "colab": {
          "base_uri": "https://localhost:8080/"
        },
        "id": "5r5jDkVrEKxR",
        "outputId": "baf46ae4-2ec0-4e24-c22f-c20a3b49aff4"
      },
      "outputs": [
        {
          "output_type": "stream",
          "name": "stdout",
          "text": [
            "Enter temperature in Fahrenheit: 100\n",
            "100.0 in Fahrenheit is equal to 37.77777777777778 in Celsius\n"
          ]
        }
      ],
      "source": [
        "temp = float(input(\"Enter temperature in Fahrenheit: \"))\n",
        "\n",
        "celsius = (temp - 32) * 5/9\n",
        "\n",
        "print(f\"{temp} in Fahrenheit is equal to {celsius} in Celsius\")"
      ]
    },
    {
      "cell_type": "markdown",
      "source": [
        "**THE END**"
      ],
      "metadata": {
        "id": "Tt2aOHm01eDf"
      }
    }
  ]
}