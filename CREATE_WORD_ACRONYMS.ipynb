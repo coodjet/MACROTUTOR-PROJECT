{
  "nbformat": 4,
  "nbformat_minor": 0,
  "metadata": {
    "colab": {
      "name": "CREATE WORD ACRONYMS.ipynb",
      "provenance": [],
      "authorship_tag": "ABX9TyOo5s9APtODqrJ18wL0sYqG",
      "include_colab_link": true
    },
    "kernelspec": {
      "name": "python3",
      "display_name": "Python 3"
    },
    "language_info": {
      "name": "python"
    }
  },
  "cells": [
    {
      "cell_type": "markdown",
      "metadata": {
        "id": "view-in-github",
        "colab_type": "text"
      },
      "source": [
        "<a href=\"https://colab.research.google.com/github/coodjet/MACROTUTOR-PROJECT/blob/main/CREATE_WORD_ACRONYMS.ipynb\" target=\"_parent\"><img src=\"https://colab.research.google.com/assets/colab-badge.svg\" alt=\"Open In Colab\"/></a>"
      ]
    },
    {
      "cell_type": "markdown",
      "source": [
        "**PYTHON PROJECT**\n",
        "\n",
        "***TOPIC: CREATE WORD ACRONYMS***"
      ],
      "metadata": {
        "id": "CdxE-Ogn1RX2"
      }
    },
    {
      "cell_type": "markdown",
      "source": [
        "What is an Acronym?\n",
        "An acronym is a word formed by abbreviating a phrase by combining certain letters of words* in the phrase (often the first initial of each) into a single term. *'of' is not considered for acronyms\n",
        "\n",
        "How our Acronym generator works? Our Acronym Generator will take a String as an input and for the output it will return the initials of all the words in the String.\n"
      ],
      "metadata": {
        "id": "koSJv9QQ_5gw"
      }
    },
    {
      "cell_type": "markdown",
      "source": [
        "**STEPS**\n",
        "\n",
        "\n",
        "\n",
        "1.   **Step 1: Getting the user input.**\n",
        "First of all, we need to get the phrase from the user. We can do it easily with the use of input() method, the user input will be stored in an input_user variable.\n",
        "Adding the user input input_user = input(\"Please Tape a phrase: \")\n",
        "\n",
        "2.   **Step 2: Creating a list of words**\n",
        "Next step, we need to extract the words from the clean_input string and to store them as a list in phrase variable. #Split words phrase = input_user.split()\n",
        "\n",
        "\n",
        "3. **Step 3: Coding the acronym generator's logic**\n",
        "Then, we initilize an empty variable acronym . acronym = \"\" we are going to extract the first letter of every word stored in phrase using slicing operator and adding it to acronym variable than capitalizing it with the use of upper() function. . for w in phrase: acronym = acronym + w[0].upper() Finally, Let's add a print statement print('The acronyme of ' + input_user + ' is '+ acronym)\n",
        "\n",
        "4.   **Step 4: Coding the acronym generator's logic**\n",
        "Then, we initilize an empty variable acronym . acronym = \"\" we are going to extract the first letter of every word stored in phrase using slicing operator and adding it to acronym variable than capitalizing it with the use of upper() function. . for w in phrase: acronym = acronym + w[0].upper() Finally, Let's add a print statement print('The acronyme of ' + input_user + ' is '+ acronym)\n",
        "\n",
        "5. **Final Step: Running the code**\n",
        "   \n",
        "   let's try running our Code!\n",
        "\n",
        "\n"
      ],
      "metadata": {
        "id": "VT0xM9B7BFuU"
      }
    },
    {
      "cell_type": "code",
      "source": [
        "input_user= input(\":\")\n",
        "\n",
        "phrase = input_user.split()\n",
        "\n",
        "acronym=\"\"\n",
        "\n",
        "for w in phrase:\n",
        "  acronym = acronym + w[0].upper()\n",
        "\n",
        "print('The acronyme of ' + input_user + ' is '+ acronym)\n",
        "   "
      ],
      "metadata": {
        "colab": {
          "base_uri": "https://localhost:8080/"
        },
        "id": "lIilISj026_p",
        "outputId": "5932070d-499b-4d56-a2a9-10b5ca9dfa4f"
      },
      "execution_count": 10,
      "outputs": [
        {
          "output_type": "stream",
          "name": "stdout",
          "text": [
            ":Computer Science Engineering\n",
            "The acronyme of Computer Science Engineering is CSE\n"
          ]
        }
      ]
    },
    {
      "cell_type": "markdown",
      "source": [
        "  **THE END**\n",
        "\n",
        "\n",
        "\n"
      ],
      "metadata": {
        "id": "yfRRuUZH9pYN"
      }
    }
  ]
}